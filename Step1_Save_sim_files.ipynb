{
 "cells": [
  {
   "cell_type": "markdown",
   "metadata": {},
   "source": [
    "# Este programa prepara los archivos .sim del sofware casino v2.51"
   ]
  },
  {
   "cell_type": "markdown",
   "metadata": {},
   "source": [
    "El software utilizado para la producción de rayos X es https://www.gel.usherbrooke.ca/casino/index.html en la su versión 2"
   ]
  },
  {
   "cell_type": "code",
   "execution_count": 6,
   "metadata": {},
   "outputs": [],
   "source": [
    "import pyautogui # contienen funciones que automatizan los movimientos del puntero y de las entradas del teclado \n",
    "import time"
   ]
  },
  {
   "cell_type": "code",
   "execution_count": 7,
   "metadata": {},
   "outputs": [
    {
     "name": "stdout",
     "output_type": "stream",
     "text": [
      " en x = 279, en y = 384\n"
     ]
    }
   ],
   "source": [
    "currentMouseX, currentMouseY = pyautogui.position()\n",
    "print(f' en x = {currentMouseX}, en y = {currentMouseY}')"
   ]
  },
  {
   "cell_type": "code",
   "execution_count": 14,
   "metadata": {},
   "outputs": [
    {
     "name": "stdout",
     "output_type": "stream",
     "text": [
      "está listo el archivo .sim de 20\n",
      "está listo el archivo .sim de 40\n",
      "está listo el archivo .sim de 60\n",
      "está listo el archivo .sim de 80\n",
      "está listo el archivo .sim de 100\n",
      "está listo el archivo .sim de 120\n",
      "está listo el archivo .sim de 140\n",
      "está listo el archivo .sim de 160\n",
      "está listo el archivo .sim de 180\n",
      "está listo el archivo .sim de 200\n",
      "está listo el archivo .sim de 220\n",
      "está listo el archivo .sim de 240\n",
      "está listo el archivo .sim de 280\n",
      "está listo el archivo .sim de 320\n",
      "está listo el archivo .sim de 360\n",
      "está listo el archivo .sim de 400\n",
      "está listo el archivo .sim de 440\n",
      "está listo el archivo .sim de 480\n",
      "está listo el archivo .sim de 520\n",
      "está listo el archivo .sim de 560\n",
      "está listo el archivo .sim de 600\n",
      "está listo el archivo .sim de 660\n",
      "está listo el archivo .sim de 720\n",
      "está listo el archivo .sim de 780\n",
      "está listo el archivo .sim de 840\n",
      "está listo el archivo .sim de 900\n",
      "está listo el archivo .sim de 960\n",
      "está listo el archivo .sim de 1020\n",
      "está listo el archivo .sim de 1080\n",
      "está listo el archivo .sim de 1140\n",
      "está listo el archivo .sim de 1200\n",
      "está listo el archivo .sim de 1280\n",
      "está listo el archivo .sim de 1360\n",
      "está listo el archivo .sim de 1440\n",
      "está listo el archivo .sim de 1520\n",
      "está listo el archivo .sim de 1600\n",
      "está listo el archivo .sim de 1680\n",
      "está listo el archivo .sim de 1760\n",
      "está listo el archivo .sim de 1840\n",
      "está listo el archivo .sim de 1920\n",
      "está listo el archivo .sim de 2000\n",
      "está listo el archivo .sim de 2100\n",
      "está listo el archivo .sim de 2200\n",
      "está listo el archivo .sim de 2300\n",
      "está listo el archivo .sim de 2400\n",
      "está listo el archivo .sim de 2500\n",
      "está listo el archivo .sim de 2600\n",
      "está listo el archivo .sim de 2700\n",
      "está listo el archivo .sim de 2800\n",
      "está listo el archivo .sim de 2900\n",
      "está listo el archivo .sim de 3000\n",
      "está listo el archivo .sim de 3100\n",
      "está listo el archivo .sim de 3200\n",
      "está listo el archivo .sim de 3300\n",
      "está listo el archivo .sim de 3400\n",
      "está listo el archivo .sim de 3500\n",
      "está listo el archivo .sim de 3600\n",
      "está listo el archivo .sim de 3700\n",
      "está listo el archivo .sim de 3800\n",
      "está listo el archivo .sim de 3900\n",
      "está listo el archivo .sim de 4000\n",
      "está listo el archivo .sim de 4200\n",
      "está listo el archivo .sim de 4400\n",
      "está listo el archivo .sim de 4600\n",
      "está listo el archivo .sim de 4800\n",
      "está listo el archivo .sim de 5000\n",
      "Done!, la ejecución tardó 434.5467803478241\n"
     ]
    }
   ],
   "source": [
    "time.sleep(3)\n",
    "tini=time.time()\n",
    "subst='SS'\n",
    "listac = [20, 40, 60, 80, 100, 120, 140, 160, 180, 200, 220, 240, 280, 320, 360, 400, 440, 480, 520, 560, 600, 660, 720, 780, 840, 900, 960, 1020, 1080, 1140, 1200, 1280, 1360, 1440, 1520, 1600, 1680, 1760, 1840, 1920, 2000, 2100, 2200, 2300, 2400, 2500, 2600, 2700, 2800, 2900, 3000, 3100, 3200, 3300, 3400, 3500, 3600, 3700, 3800, 3900, 4000, 4200, 4400, 4600, 4800, 5000]\n",
    "for thickness in listac: \n",
    "    tt=0.2\n",
    "    pyautogui.moveTo(243,54,duration=tt,tween=pyautogui.easeInOutQuad)\n",
    "    pyautogui.click()\n",
    "    pyautogui.moveTo(776,177,duration=tt,tween=pyautogui.easeInOutQuad)\n",
    "    pyautogui.click()\n",
    "    pyautogui.write(str(thickness),interval=0.1)\n",
    "    pyautogui.press('enter')\n",
    "    pyautogui.press('enter')\n",
    "    pyautogui.moveTo(15,30,duration=tt,tween=pyautogui.easeInOutQuad)\n",
    "    pyautogui.click()\n",
    "    pyautogui.moveTo(30,120,duration=tt,tween=pyautogui.easeInOutQuad)\n",
    "    pyautogui.click()\n",
    "    pyautogui.write(f'AD_TiN_on_{subst}_31_to_35KV_{thickness}_nm',interval=0.1)\n",
    "    pyautogui.press('enter')\n",
    "    print(f'está listo el archivo .sim de {thickness}')\n",
    "tfini=time.time()\n",
    "print(f'Done!, la ejecución tardó {tfini-tini}')"
   ]
  },
  {
   "cell_type": "code",
   "execution_count": 1,
   "metadata": {},
   "outputs": [],
   "source": [
    "listac = [20, 40, 60, 80, 100, 120, 140, 160, 180, 200, 220, 240, 280, 320, 360, 400, 440, 480, 520, 560, 600, 660, 720, 780, 840, 900, 960, 1020, 1080, 1140, 1200, 1280, 1360, 1440, 1520, 1600, 1680, 1760, 1840, 1920, 2000, 2100, 2200, 2300, 2400, 2500, 2600, 2700, 2800, 2900, 3000, 3100, 3200, 3300, 3400, 3500, 3600, 3700, 3800, 3900, 4000, 4200, 4400, 4600, 4800, 5000]"
   ]
  },
  {
   "cell_type": "code",
   "execution_count": 3,
   "metadata": {},
   "outputs": [
    {
     "data": {
      "text/plain": [
       "66"
      ]
     },
     "execution_count": 3,
     "metadata": {},
     "output_type": "execute_result"
    }
   ],
   "source": [
    "len(listac)"
   ]
  },
  {
   "cell_type": "code",
   "execution_count": 11,
   "metadata": {},
   "outputs": [
    {
     "data": {
      "text/plain": [
       "6.983333333333333"
      ]
     },
     "execution_count": 11,
     "metadata": {},
     "output_type": "execute_result"
    }
   ],
   "source": [
    "419/60"
   ]
  },
  {
   "cell_type": "code",
   "execution_count": null,
   "metadata": {},
   "outputs": [],
   "source": []
  }
 ],
 "metadata": {
  "kernelspec": {
   "display_name": "Python 3",
   "language": "python",
   "name": "python3"
  },
  "language_info": {
   "codemirror_mode": {
    "name": "ipython",
    "version": 3
   },
   "file_extension": ".py",
   "mimetype": "text/x-python",
   "name": "python",
   "nbconvert_exporter": "python",
   "pygments_lexer": "ipython3",
   "version": "3.8.5"
  }
 },
 "nbformat": 4,
 "nbformat_minor": 4
}
