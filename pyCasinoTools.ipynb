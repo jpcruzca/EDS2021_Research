{
 "cells": [
  {
   "cell_type": "code",
   "execution_count": 7,
   "metadata": {},
   "outputs": [
    {
     "name": "stdout",
     "output_type": "stream",
     "text": [
      "Requirement already satisfied: pyCasinoTools in c:\\programdata\\anaconda3\\lib\\site-packages (0.2.2)\n",
      "Requirement already satisfied: numpy in c:\\programdata\\anaconda3\\lib\\site-packages (from pyCasinoTools) (1.18.1)\n",
      "Requirement already satisfied: Pillow in c:\\programdata\\anaconda3\\lib\\site-packages (from pyCasinoTools) (7.0.0)\n"
     ]
    }
   ],
   "source": [
    "#!pip install pyCasinoTools"
   ]
  },
  {
   "cell_type": "code",
   "execution_count": 2,
   "metadata": {},
   "outputs": [],
   "source": []
  },
  {
   "cell_type": "code",
   "execution_count": 7,
   "metadata": {},
   "outputs": [],
   "source": [
    "ct?"
   ]
  },
  {
   "cell_type": "code",
   "execution_count": 4,
   "metadata": {},
   "outputs": [
    {
     "name": "stdout",
     "output_type": "stream",
     "text": [
      "Collecting pymontecarlo-casino2\n",
      "  Downloading pyMonteCarlo_Casino2-1.0.1-py2.py3-none-any.whl (6.1 MB)\n",
      "Requirement already satisfied: pycasinotools in c:\\programdata\\anaconda3\\lib\\site-packages (from pymontecarlo-casino2) (0.2.2)\n",
      "Collecting pymontecarlo\n",
      "  Downloading pyMonteCarlo-1.0.0-py3-none-any.whl (240 kB)\n",
      "Requirement already satisfied: Pillow in c:\\programdata\\anaconda3\\lib\\site-packages (from pycasinotools->pymontecarlo-casino2) (7.0.0)\n",
      "Requirement already satisfied: numpy in c:\\programdata\\anaconda3\\lib\\site-packages (from pycasinotools->pymontecarlo-casino2) (1.18.1)\n",
      "Requirement already satisfied: h5py in c:\\programdata\\anaconda3\\lib\\site-packages (from pymontecarlo->pymontecarlo-casino2) (2.10.0)\n",
      "Collecting pyxray\n",
      "  Downloading pyxray-1.7.0-py3-none-any.whl (541 kB)\n",
      "Requirement already satisfied: matplotlib in c:\\programdata\\anaconda3\\lib\\site-packages (from pymontecarlo->pymontecarlo-casino2) (3.1.3)\n",
      "Collecting uncertainties\n",
      "  Downloading uncertainties-3.1.5-py2.py3-none-any.whl (246 kB)\n",
      "Requirement already satisfied: pyparsing in c:\\programdata\\anaconda3\\lib\\site-packages (from pymontecarlo->pymontecarlo-casino2) (2.4.6)\n",
      "Requirement already satisfied: pandas in c:\\programdata\\anaconda3\\lib\\site-packages (from pymontecarlo->pymontecarlo-casino2) (1.0.1)\n",
      "Requirement already satisfied: psutil in c:\\programdata\\anaconda3\\lib\\site-packages (from pymontecarlo->pymontecarlo-casino2) (5.6.7)\n",
      "Collecting tabulate\n",
      "  Downloading tabulate-0.8.7-py3-none-any.whl (24 kB)\n",
      "Collecting dominate\n",
      "  Downloading dominate-2.6.0-py2.py3-none-any.whl (29 kB)\n",
      "Requirement already satisfied: more-itertools in c:\\programdata\\anaconda3\\lib\\site-packages (from pymontecarlo->pymontecarlo-casino2) (8.2.0)\n",
      "Collecting pint\n",
      "  Downloading Pint-0.16.1-py2.py3-none-any.whl (205 kB)\n",
      "Requirement already satisfied: six in c:\\programdata\\anaconda3\\lib\\site-packages (from h5py->pymontecarlo->pymontecarlo-casino2) (1.14.0)\n",
      "Requirement already satisfied: sqlalchemy in c:\\programdata\\anaconda3\\lib\\site-packages (from pyxray->pymontecarlo->pymontecarlo-casino2) (1.3.13)\n",
      "Requirement already satisfied: tqdm in c:\\programdata\\anaconda3\\lib\\site-packages (from pyxray->pymontecarlo->pymontecarlo-casino2) (4.42.1)\n",
      "Requirement already satisfied: cycler>=0.10 in c:\\programdata\\anaconda3\\lib\\site-packages (from matplotlib->pymontecarlo->pymontecarlo-casino2) (0.10.0)\n",
      "Requirement already satisfied: kiwisolver>=1.0.1 in c:\\programdata\\anaconda3\\lib\\site-packages (from matplotlib->pymontecarlo->pymontecarlo-casino2) (1.1.0)\n",
      "Requirement already satisfied: python-dateutil>=2.1 in c:\\programdata\\anaconda3\\lib\\site-packages (from matplotlib->pymontecarlo->pymontecarlo-casino2) (2.8.1)\n",
      "Requirement already satisfied: future in c:\\programdata\\anaconda3\\lib\\site-packages (from uncertainties->pymontecarlo->pymontecarlo-casino2) (0.18.2)\n",
      "Requirement already satisfied: pytz>=2017.2 in c:\\programdata\\anaconda3\\lib\\site-packages (from pandas->pymontecarlo->pymontecarlo-casino2) (2019.3)\n",
      "Requirement already satisfied: packaging in c:\\programdata\\anaconda3\\lib\\site-packages (from pint->pymontecarlo->pymontecarlo-casino2) (20.1)\n",
      "Requirement already satisfied: importlib-metadata; python_version < \"3.8\" in c:\\programdata\\anaconda3\\lib\\site-packages (from pint->pymontecarlo->pymontecarlo-casino2) (1.5.0)\n",
      "Requirement already satisfied: setuptools in c:\\programdata\\anaconda3\\lib\\site-packages (from kiwisolver>=1.0.1->matplotlib->pymontecarlo->pymontecarlo-casino2) (45.2.0.post20200210)\n",
      "Requirement already satisfied: zipp>=0.5 in c:\\programdata\\anaconda3\\lib\\site-packages (from importlib-metadata; python_version < \"3.8\"->pint->pymontecarlo->pymontecarlo-casino2) (2.2.0)\n",
      "Installing collected packages: tabulate, pyxray, uncertainties, dominate, pint, pymontecarlo, pymontecarlo-casino2\n",
      "Successfully installed dominate-2.6.0 pint-0.16.1 pymontecarlo-1.0.0 pymontecarlo-casino2-1.0.1 pyxray-1.7.0 tabulate-0.8.7 uncertainties-3.1.5\n"
     ]
    }
   ],
   "source": [
    "!pip install pymontecarlo-casino2"
   ]
  },
  {
   "cell_type": "code",
   "execution_count": 5,
   "metadata": {},
   "outputs": [
    {
     "name": "stdout",
     "output_type": "stream",
     "text": [
      "Collecting pymontecarlo-casino2-gui\n",
      "  Downloading pyMonteCarlo_Casino2_GUI-1.0.0-py2.py3-none-any.whl (5.0 kB)\n",
      "Requirement already satisfied: pycasinotools in c:\\programdata\\anaconda3\\lib\\site-packages (from pymontecarlo-casino2-gui) (0.2.2)\n",
      "Collecting pymontecarlo-gui\n",
      "  Downloading pyMonteCarlo_GUI-1.0.0-py3-none-any.whl (108 kB)\n",
      "Requirement already satisfied: pymontecarlo in c:\\programdata\\anaconda3\\lib\\site-packages (from pymontecarlo-casino2-gui) (1.0.0)\n",
      "Requirement already satisfied: Pillow in c:\\programdata\\anaconda3\\lib\\site-packages (from pycasinotools->pymontecarlo-casino2-gui) (7.0.0)\n",
      "Requirement already satisfied: numpy in c:\\programdata\\anaconda3\\lib\\site-packages (from pycasinotools->pymontecarlo-casino2-gui) (1.18.1)\n",
      "Requirement already satisfied: pandas in c:\\programdata\\anaconda3\\lib\\site-packages (from pymontecarlo-gui->pymontecarlo-casino2-gui) (1.0.1)\n",
      "Collecting matplotlib-scalebar\n",
      "  Downloading matplotlib_scalebar-0.7.1-py2.py3-none-any.whl (17 kB)\n",
      "Collecting PyQt5\n",
      "  Downloading PyQt5-5.15.2-5.15.2-cp35.cp36.cp37.cp38.cp39-none-win_amd64.whl (56.9 MB)\n",
      "Requirement already satisfied: pygments in c:\\programdata\\anaconda3\\lib\\site-packages (from pymontecarlo-gui->pymontecarlo-casino2-gui) (2.5.2)\n",
      "Collecting pyqttango\n",
      "  Downloading pyqttango-0.2.0-py3-none-any.whl (1.7 MB)\n",
      "Requirement already satisfied: qtpy in c:\\programdata\\anaconda3\\lib\\site-packages (from pymontecarlo-gui->pymontecarlo-casino2-gui) (1.9.0)\n",
      "Requirement already satisfied: dominate in c:\\programdata\\anaconda3\\lib\\site-packages (from pymontecarlo->pymontecarlo-casino2-gui) (2.6.0)\n",
      "Requirement already satisfied: pyparsing in c:\\programdata\\anaconda3\\lib\\site-packages (from pymontecarlo->pymontecarlo-casino2-gui) (2.4.6)\n",
      "Requirement already satisfied: more-itertools in c:\\programdata\\anaconda3\\lib\\site-packages (from pymontecarlo->pymontecarlo-casino2-gui) (8.2.0)\n",
      "Requirement already satisfied: psutil in c:\\programdata\\anaconda3\\lib\\site-packages (from pymontecarlo->pymontecarlo-casino2-gui) (5.6.7)\n",
      "Requirement already satisfied: h5py in c:\\programdata\\anaconda3\\lib\\site-packages (from pymontecarlo->pymontecarlo-casino2-gui) (2.10.0)\n",
      "Requirement already satisfied: tabulate in c:\\programdata\\anaconda3\\lib\\site-packages (from pymontecarlo->pymontecarlo-casino2-gui) (0.8.7)\n",
      "Requirement already satisfied: pyxray in c:\\programdata\\anaconda3\\lib\\site-packages (from pymontecarlo->pymontecarlo-casino2-gui) (1.7.0)\n",
      "Requirement already satisfied: uncertainties in c:\\programdata\\anaconda3\\lib\\site-packages (from pymontecarlo->pymontecarlo-casino2-gui) (3.1.5)\n",
      "Requirement already satisfied: pint in c:\\programdata\\anaconda3\\lib\\site-packages (from pymontecarlo->pymontecarlo-casino2-gui) (0.16.1)\n",
      "Requirement already satisfied: matplotlib in c:\\programdata\\anaconda3\\lib\\site-packages (from pymontecarlo->pymontecarlo-casino2-gui) (3.1.3)\n",
      "Requirement already satisfied: python-dateutil>=2.6.1 in c:\\programdata\\anaconda3\\lib\\site-packages (from pandas->pymontecarlo-gui->pymontecarlo-casino2-gui) (2.8.1)\n",
      "Requirement already satisfied: pytz>=2017.2 in c:\\programdata\\anaconda3\\lib\\site-packages (from pandas->pymontecarlo-gui->pymontecarlo-casino2-gui) (2019.3)\n",
      "Collecting PyQt5-sip<13,>=12.8\n",
      "  Downloading PyQt5_sip-12.8.1-cp37-cp37m-win_amd64.whl (62 kB)\n",
      "Requirement already satisfied: six in c:\\programdata\\anaconda3\\lib\\site-packages (from h5py->pymontecarlo->pymontecarlo-casino2-gui) (1.14.0)\n",
      "Requirement already satisfied: tqdm in c:\\programdata\\anaconda3\\lib\\site-packages (from pyxray->pymontecarlo->pymontecarlo-casino2-gui) (4.42.1)\n",
      "Requirement already satisfied: sqlalchemy in c:\\programdata\\anaconda3\\lib\\site-packages (from pyxray->pymontecarlo->pymontecarlo-casino2-gui) (1.3.13)\n",
      "Requirement already satisfied: future in c:\\programdata\\anaconda3\\lib\\site-packages (from uncertainties->pymontecarlo->pymontecarlo-casino2-gui) (0.18.2)\n",
      "Requirement already satisfied: packaging in c:\\programdata\\anaconda3\\lib\\site-packages (from pint->pymontecarlo->pymontecarlo-casino2-gui) (20.1)\n",
      "Requirement already satisfied: importlib-metadata; python_version < \"3.8\" in c:\\programdata\\anaconda3\\lib\\site-packages (from pint->pymontecarlo->pymontecarlo-casino2-gui) (1.5.0)\n",
      "Requirement already satisfied: kiwisolver>=1.0.1 in c:\\programdata\\anaconda3\\lib\\site-packages (from matplotlib->pymontecarlo->pymontecarlo-casino2-gui) (1.1.0)\n",
      "Requirement already satisfied: cycler>=0.10 in c:\\programdata\\anaconda3\\lib\\site-packages (from matplotlib->pymontecarlo->pymontecarlo-casino2-gui) (0.10.0)\n",
      "Requirement already satisfied: zipp>=0.5 in c:\\programdata\\anaconda3\\lib\\site-packages (from importlib-metadata; python_version < \"3.8\"->pint->pymontecarlo->pymontecarlo-casino2-gui) (2.2.0)\n",
      "Requirement already satisfied: setuptools in c:\\programdata\\anaconda3\\lib\\site-packages (from kiwisolver>=1.0.1->matplotlib->pymontecarlo->pymontecarlo-casino2-gui) (45.2.0.post20200210)\n",
      "Installing collected packages: matplotlib-scalebar, PyQt5-sip, PyQt5, pyqttango, pymontecarlo-gui, pymontecarlo-casino2-gui\n"
     ]
    },
    {
     "name": "stderr",
     "output_type": "stream",
     "text": [
      "ERROR: spyder 4.0.1 requires pyqtwebengine<5.13; python_version >= \"3\", which is not installed.\n",
      "ERROR: spyder 4.0.1 has requirement pyqt5<5.13; python_version >= \"3\", but you'll have pyqt5 5.15.2 which is incompatible.\n",
      "ERROR: Could not install packages due to an EnvironmentError: [WinError 5] Acceso denegado: 'C:\\\\ProgramData\\\\Anaconda3\\\\Lib\\\\site-packages\\\\PyQt5\\\\pylupdate.pyd'\n",
      "Consider using the `--user` option or check the permissions.\n",
      "\n"
     ]
    }
   ],
   "source": [
    "!pip install pymontecarlo-casino2-gui"
   ]
  },
  {
   "cell_type": "code",
   "execution_count": null,
   "metadata": {},
   "outputs": [],
   "source": []
  },
  {
   "cell_type": "code",
   "execution_count": 11,
   "metadata": {},
   "outputs": [],
   "source": [
    "import casinotools as ct\n",
    "path='C:\\\\Users\\\\Juan Pablo Nicolás\\\\Documents\\\\FISICA\\\\FISICA ESTUDIO\\\\MICROSCOPIA ELECTRONICA\\\\paper ecuacion Ene2021\\\\Sim_batch\\\\Matrix Simulation\\\\Silicon\\\\TiN_on_Si_10_to_30KV_20_nm.cas'"
   ]
  },
  {
   "cell_type": "code",
   "execution_count": 13,
   "metadata": {},
   "outputs": [
    {
     "ename": "AttributeError",
     "evalue": "module 'casinotools' has no attribute 'readFromFilepath'",
     "output_type": "error",
     "traceback": [
      "\u001b[1;31m---------------------------------------------------------------------------\u001b[0m",
      "\u001b[1;31mAttributeError\u001b[0m                            Traceback (most recent call last)",
      "\u001b[1;32m<ipython-input-13-fd8145be2157>\u001b[0m in \u001b[0;36m<module>\u001b[1;34m\u001b[0m\n\u001b[1;32m----> 1\u001b[1;33m \u001b[0mct\u001b[0m\u001b[1;33m.\u001b[0m\u001b[0mreadFromFilepath\u001b[0m\u001b[1;33m(\u001b[0m\u001b[0mpath\u001b[0m\u001b[1;33m)\u001b[0m\u001b[1;33m\u001b[0m\u001b[1;33m\u001b[0m\u001b[0m\n\u001b[0m",
      "\u001b[1;31mAttributeError\u001b[0m: module 'casinotools' has no attribute 'readFromFilepath'"
     ]
    }
   ],
   "source": [
    "ct.readFromFilepath(path)"
   ]
  },
  {
   "cell_type": "code",
   "execution_count": null,
   "metadata": {},
   "outputs": [],
   "source": []
  }
 ],
 "metadata": {
  "kernelspec": {
   "display_name": "Python 3",
   "language": "python",
   "name": "python3"
  },
  "language_info": {
   "codemirror_mode": {
    "name": "ipython",
    "version": 3
   },
   "file_extension": ".py",
   "mimetype": "text/x-python",
   "name": "python",
   "nbconvert_exporter": "python",
   "pygments_lexer": "ipython3",
   "version": "3.7.6"
  }
 },
 "nbformat": 4,
 "nbformat_minor": 4
}
