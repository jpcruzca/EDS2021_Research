{
 "cells": [
  {
   "cell_type": "code",
   "execution_count": 169,
   "metadata": {},
   "outputs": [],
   "source": [
    "import numpy as np \n",
    "import pandas as pd\n",
    "from scipy.optimize import curve_fit\n",
    "from scipy.optimize import minimize \n",
    "import matplotlib.pyplot as plt"
   ]
  },
  {
   "cell_type": "code",
   "execution_count": 200,
   "metadata": {},
   "outputs": [],
   "source": [
    "def mequation(I,Thc,beta,n):\n",
    "    \"\"\"\n",
    "    Analithic Function to relate the thickness of a film with its relative ratio of intensities, i.e I_r\n",
    "    \"\"\"\n",
    "    return Thc*np.exp(-beta*I**(1.0/n))"
   ]
  },
  {
   "cell_type": "code",
   "execution_count": 201,
   "metadata": {},
   "outputs": [],
   "source": [
    "def objective(x,df2):\n",
    "    \"\"\"\n",
    "    El valor que retorne la función es el que se busca minimizar\n",
    "    \"\"\"\n",
    "    thc=x[0]\n",
    "    b=x[1]\n",
    "    n=x[2]\n",
    "    #print(e0)\n",
    "    df2['Equation'] = mequation(df2.I_ratio,thc,b,n)\n",
    "    df2['Discrepancy'] = (df2.index.get_level_values('Thickness')-df2.Equation)/df2.index.get_level_values('Thickness')*100\n",
    "    dfaux=df2[df2.I_ratio!=0]\n",
    "    return dfaux.loc[(e0,20):(e0,5000)].Discrepancy.pow(2).sum()#df2.loc[(e0,20):(e0,5000)].Discrepancy.pow(2).sum()"
   ]
  },
  {
   "cell_type": "code",
   "execution_count": 251,
   "metadata": {},
   "outputs": [],
   "source": [
    "def orgdf(frame):\n",
    "    \"\"\"Change the format that comes from to excel as to manage the data\"\"\"\n",
    "    energy=[]\n",
    "    Iratio=[]\n",
    "    thickness=[]\n",
    "    for i in range(4):\n",
    "        dic={}\n",
    "        k=0\n",
    "        for j in range(len(frame.loc[i])-1):\n",
    "            energy.append(list(frame.loc[i])[0])\n",
    "            Iratio.append(list(frame.loc[i])[k+1])\n",
    "            thickness.append(list(frame.columns)[k+1])\n",
    "            k+=1\n",
    "    dic={'Energy':energy,'Thickness':thickness,'I_ratio':Iratio}\n",
    "    df=pd.DataFrame(dic)\n",
    "    return df"
   ]
  },
  {
   "cell_type": "code",
   "execution_count": 252,
   "metadata": {},
   "outputs": [],
   "source": [
    "path='C:\\\\Users\\\\Juan Pablo Nicolás\\\\Documents\\\\FISICA\\\\FISICA ESTUDIO\\\\MICROSCOPIA ELECTRONICA\\\\paper ecuacion Ene2021\\\\Sim_batch\\\\Matrix Simulation\\\\EqvsDataexp.xlsx'"
   ]
  },
  {
   "cell_type": "code",
   "execution_count": 253,
   "metadata": {},
   "outputs": [],
   "source": [
    "dfSi=pd.read_excel(path,'Si')\n",
    "dfGlass=pd.read_excel(path,'Glass')\n",
    "dfSS=pd.read_excel(path,'SS')"
   ]
  },
  {
   "cell_type": "code",
   "execution_count": 254,
   "metadata": {},
   "outputs": [],
   "source": [
    "dffSi=orgdf(dfSi)\n",
    "dffGlass=orgdf(dfGlass)\n",
    "dffSS=orgdf(dfSS)"
   ]
  },
  {
   "cell_type": "code",
   "execution_count": 255,
   "metadata": {},
   "outputs": [],
   "source": [
    "dffSi=dffSi.set_index(['Energy','Thickness']).sort_index()\n",
    "dffGlass=dffGlass.set_index(['Energy','Thickness']).sort_index()\n",
    "dffSS=dffSS.set_index(['Energy','Thickness']).sort_index()"
   ]
  },
  {
   "cell_type": "markdown",
   "metadata": {},
   "source": [
    "Dejando libre todos los parámetros"
   ]
  },
  {
   "cell_type": "code",
   "execution_count": 264,
   "metadata": {},
   "outputs": [
    {
     "name": "stderr",
     "output_type": "stream",
     "text": [
      "C:\\ProgramData\\Anaconda3\\lib\\site-packages\\pandas\\core\\series.py:726: RuntimeWarning: overflow encountered in exp\n",
      "  result = getattr(ufunc, method)(*inputs, **kwargs)\n",
      "C:\\ProgramData\\Anaconda3\\lib\\site-packages\\pandas\\core\\series.py:726: RuntimeWarning: overflow encountered in exp\n",
      "  result = getattr(ufunc, method)(*inputs, **kwargs)\n",
      "C:\\ProgramData\\Anaconda3\\lib\\site-packages\\pandas\\core\\series.py:726: RuntimeWarning: overflow encountered in exp\n",
      "  result = getattr(ufunc, method)(*inputs, **kwargs)\n",
      "C:\\ProgramData\\Anaconda3\\lib\\site-packages\\pandas\\core\\series.py:726: RuntimeWarning: overflow encountered in exp\n",
      "  result = getattr(ufunc, method)(*inputs, **kwargs)\n",
      "C:\\ProgramData\\Anaconda3\\lib\\site-packages\\pandas\\core\\series.py:726: RuntimeWarning: overflow encountered in exp\n",
      "  result = getattr(ufunc, method)(*inputs, **kwargs)\n",
      "C:\\ProgramData\\Anaconda3\\lib\\site-packages\\pandas\\core\\series.py:726: RuntimeWarning: overflow encountered in exp\n",
      "  result = getattr(ufunc, method)(*inputs, **kwargs)\n",
      "C:\\ProgramData\\Anaconda3\\lib\\site-packages\\pandas\\core\\series.py:726: RuntimeWarning: overflow encountered in exp\n",
      "  result = getattr(ufunc, method)(*inputs, **kwargs)\n",
      "C:\\ProgramData\\Anaconda3\\lib\\site-packages\\pandas\\core\\series.py:726: RuntimeWarning: overflow encountered in exp\n",
      "  result = getattr(ufunc, method)(*inputs, **kwargs)\n",
      "C:\\ProgramData\\Anaconda3\\lib\\site-packages\\pandas\\core\\series.py:726: RuntimeWarning: overflow encountered in exp\n",
      "  result = getattr(ufunc, method)(*inputs, **kwargs)\n",
      "C:\\ProgramData\\Anaconda3\\lib\\site-packages\\pandas\\core\\series.py:726: RuntimeWarning: overflow encountered in exp\n",
      "  result = getattr(ufunc, method)(*inputs, **kwargs)\n",
      "C:\\ProgramData\\Anaconda3\\lib\\site-packages\\pandas\\core\\series.py:726: RuntimeWarning: overflow encountered in exp\n",
      "  result = getattr(ufunc, method)(*inputs, **kwargs)\n",
      "C:\\ProgramData\\Anaconda3\\lib\\site-packages\\pandas\\core\\series.py:726: RuntimeWarning: overflow encountered in exp\n",
      "  result = getattr(ufunc, method)(*inputs, **kwargs)\n",
      "C:\\ProgramData\\Anaconda3\\lib\\site-packages\\pandas\\core\\series.py:726: RuntimeWarning: overflow encountered in exp\n",
      "  result = getattr(ufunc, method)(*inputs, **kwargs)\n",
      "C:\\ProgramData\\Anaconda3\\lib\\site-packages\\pandas\\core\\series.py:726: RuntimeWarning: overflow encountered in exp\n",
      "  result = getattr(ufunc, method)(*inputs, **kwargs)\n",
      "C:\\ProgramData\\Anaconda3\\lib\\site-packages\\pandas\\core\\series.py:726: RuntimeWarning: overflow encountered in exp\n",
      "  result = getattr(ufunc, method)(*inputs, **kwargs)\n",
      "C:\\ProgramData\\Anaconda3\\lib\\site-packages\\pandas\\core\\series.py:726: RuntimeWarning: overflow encountered in exp\n",
      "  result = getattr(ufunc, method)(*inputs, **kwargs)\n",
      "C:\\ProgramData\\Anaconda3\\lib\\site-packages\\pandas\\core\\series.py:726: RuntimeWarning: overflow encountered in exp\n",
      "  result = getattr(ufunc, method)(*inputs, **kwargs)\n",
      "C:\\ProgramData\\Anaconda3\\lib\\site-packages\\pandas\\core\\series.py:726: RuntimeWarning: overflow encountered in exp\n",
      "  result = getattr(ufunc, method)(*inputs, **kwargs)\n",
      "C:\\ProgramData\\Anaconda3\\lib\\site-packages\\pandas\\core\\series.py:726: RuntimeWarning: overflow encountered in exp\n",
      "  result = getattr(ufunc, method)(*inputs, **kwargs)\n",
      "C:\\ProgramData\\Anaconda3\\lib\\site-packages\\pandas\\core\\series.py:726: RuntimeWarning: overflow encountered in exp\n",
      "  result = getattr(ufunc, method)(*inputs, **kwargs)\n",
      "C:\\ProgramData\\Anaconda3\\lib\\site-packages\\pandas\\core\\series.py:726: RuntimeWarning: overflow encountered in exp\n",
      "  result = getattr(ufunc, method)(*inputs, **kwargs)\n",
      "C:\\ProgramData\\Anaconda3\\lib\\site-packages\\pandas\\core\\series.py:726: RuntimeWarning: overflow encountered in exp\n",
      "  result = getattr(ufunc, method)(*inputs, **kwargs)\n",
      "C:\\ProgramData\\Anaconda3\\lib\\site-packages\\pandas\\core\\series.py:726: RuntimeWarning: overflow encountered in exp\n",
      "  result = getattr(ufunc, method)(*inputs, **kwargs)\n",
      "C:\\ProgramData\\Anaconda3\\lib\\site-packages\\pandas\\core\\series.py:726: RuntimeWarning: overflow encountered in exp\n",
      "  result = getattr(ufunc, method)(*inputs, **kwargs)\n",
      "C:\\ProgramData\\Anaconda3\\lib\\site-packages\\pandas\\core\\series.py:726: RuntimeWarning: overflow encountered in exp\n",
      "  result = getattr(ufunc, method)(*inputs, **kwargs)\n",
      "C:\\ProgramData\\Anaconda3\\lib\\site-packages\\pandas\\core\\series.py:726: RuntimeWarning: overflow encountered in exp\n",
      "  result = getattr(ufunc, method)(*inputs, **kwargs)\n",
      "C:\\ProgramData\\Anaconda3\\lib\\site-packages\\pandas\\core\\series.py:726: RuntimeWarning: overflow encountered in exp\n",
      "  result = getattr(ufunc, method)(*inputs, **kwargs)\n",
      "C:\\ProgramData\\Anaconda3\\lib\\site-packages\\pandas\\core\\series.py:726: RuntimeWarning: overflow encountered in exp\n",
      "  result = getattr(ufunc, method)(*inputs, **kwargs)\n",
      "C:\\ProgramData\\Anaconda3\\lib\\site-packages\\pandas\\core\\series.py:726: RuntimeWarning: overflow encountered in exp\n",
      "  result = getattr(ufunc, method)(*inputs, **kwargs)\n"
     ]
    },
    {
     "name": "stdout",
     "output_type": "stream",
     "text": [
      "[1.23877521e+03 1.31544820e+00 5.14190264e-02]\n",
      "[4.91092260e+04 4.42131258e+00 1.67389452e+01]\n",
      "[3.49457921e+03 1.44229922e+00 4.69958391e+00]\n",
      "[5.12484186e+03 1.65221564e+00 5.30533038e+00]\n"
     ]
    }
   ],
   "source": [
    "l=[]\n",
    "for e0 in [12,18,24,30]:\n",
    "    x0=[1000,2,5]\n",
    "    s=minimize(objective,x0,dffSi,method='SLSQP')\n",
    "    l.append(s)\n",
    "thn,bn,nn = [], [], []\n",
    "for i in l:\n",
    "    print(i.x)\n",
    "    thn.append(i.x[0])\n",
    "    bn.append(i.x[1])\n",
    "    nn.append(i.x[2])\n",
    "dicfL_Si={'Energy':[12,18,24,30],'Thc':thn,'beta':bn,'n':nn}"
   ]
  },
  {
   "cell_type": "code",
   "execution_count": 265,
   "metadata": {},
   "outputs": [
    {
     "data": {
      "text/plain": [
       "1151739.25"
      ]
     },
     "execution_count": 265,
     "metadata": {},
     "output_type": "execute_result"
    }
   ],
   "source": [
    "mequation(0,1.15173925e+06,7.93504140,3.22197009e+01)"
   ]
  },
  {
   "cell_type": "code",
   "execution_count": 266,
   "metadata": {},
   "outputs": [
    {
     "data": {
      "text/plain": [
       "{'Energy': [12, 18, 24, 30],\n",
       " 'Thc': [1238.7752138131912,\n",
       "  49109.225958286755,\n",
       "  3494.5792084849395,\n",
       "  5124.841862480529],\n",
       " 'beta': [1.3154482031995838,\n",
       "  4.421312577470428,\n",
       "  1.4422992174615823,\n",
       "  1.6522156374818326],\n",
       " 'n': [0.05141902638755876,\n",
       "  16.738945248671598,\n",
       "  4.699583912041353,\n",
       "  5.305330381324715]}"
      ]
     },
     "execution_count": 266,
     "metadata": {},
     "output_type": "execute_result"
    }
   ],
   "source": [
    "dicfL_Si"
   ]
  },
  {
   "cell_type": "code",
   "execution_count": 267,
   "metadata": {},
   "outputs": [
    {
     "name": "stderr",
     "output_type": "stream",
     "text": [
      "C:\\ProgramData\\Anaconda3\\lib\\site-packages\\pandas\\core\\series.py:726: RuntimeWarning: overflow encountered in exp\n",
      "  result = getattr(ufunc, method)(*inputs, **kwargs)\n",
      "C:\\ProgramData\\Anaconda3\\lib\\site-packages\\pandas\\core\\series.py:726: RuntimeWarning: overflow encountered in exp\n",
      "  result = getattr(ufunc, method)(*inputs, **kwargs)\n",
      "C:\\ProgramData\\Anaconda3\\lib\\site-packages\\pandas\\core\\series.py:726: RuntimeWarning: overflow encountered in exp\n",
      "  result = getattr(ufunc, method)(*inputs, **kwargs)\n",
      "C:\\ProgramData\\Anaconda3\\lib\\site-packages\\pandas\\core\\series.py:726: RuntimeWarning: overflow encountered in exp\n",
      "  result = getattr(ufunc, method)(*inputs, **kwargs)\n",
      "C:\\ProgramData\\Anaconda3\\lib\\site-packages\\pandas\\core\\series.py:726: RuntimeWarning: overflow encountered in exp\n",
      "  result = getattr(ufunc, method)(*inputs, **kwargs)\n",
      "C:\\ProgramData\\Anaconda3\\lib\\site-packages\\pandas\\core\\series.py:726: RuntimeWarning: overflow encountered in exp\n",
      "  result = getattr(ufunc, method)(*inputs, **kwargs)\n",
      "C:\\ProgramData\\Anaconda3\\lib\\site-packages\\pandas\\core\\series.py:726: RuntimeWarning: overflow encountered in exp\n",
      "  result = getattr(ufunc, method)(*inputs, **kwargs)\n",
      "C:\\ProgramData\\Anaconda3\\lib\\site-packages\\pandas\\core\\series.py:726: RuntimeWarning: overflow encountered in exp\n",
      "  result = getattr(ufunc, method)(*inputs, **kwargs)\n",
      "C:\\ProgramData\\Anaconda3\\lib\\site-packages\\pandas\\core\\series.py:726: RuntimeWarning: overflow encountered in exp\n",
      "  result = getattr(ufunc, method)(*inputs, **kwargs)\n",
      "C:\\ProgramData\\Anaconda3\\lib\\site-packages\\pandas\\core\\series.py:726: RuntimeWarning: overflow encountered in exp\n",
      "  result = getattr(ufunc, method)(*inputs, **kwargs)\n",
      "C:\\ProgramData\\Anaconda3\\lib\\site-packages\\pandas\\core\\series.py:726: RuntimeWarning: overflow encountered in exp\n",
      "  result = getattr(ufunc, method)(*inputs, **kwargs)\n",
      "C:\\ProgramData\\Anaconda3\\lib\\site-packages\\pandas\\core\\series.py:726: RuntimeWarning: overflow encountered in exp\n",
      "  result = getattr(ufunc, method)(*inputs, **kwargs)\n",
      "C:\\ProgramData\\Anaconda3\\lib\\site-packages\\pandas\\core\\series.py:726: RuntimeWarning: overflow encountered in exp\n",
      "  result = getattr(ufunc, method)(*inputs, **kwargs)\n",
      "C:\\ProgramData\\Anaconda3\\lib\\site-packages\\pandas\\core\\series.py:726: RuntimeWarning: overflow encountered in exp\n",
      "  result = getattr(ufunc, method)(*inputs, **kwargs)\n",
      "C:\\ProgramData\\Anaconda3\\lib\\site-packages\\pandas\\core\\series.py:726: RuntimeWarning: overflow encountered in exp\n",
      "  result = getattr(ufunc, method)(*inputs, **kwargs)\n",
      "C:\\ProgramData\\Anaconda3\\lib\\site-packages\\pandas\\core\\series.py:726: RuntimeWarning: overflow encountered in exp\n",
      "  result = getattr(ufunc, method)(*inputs, **kwargs)\n",
      "C:\\ProgramData\\Anaconda3\\lib\\site-packages\\pandas\\core\\series.py:726: RuntimeWarning: overflow encountered in exp\n",
      "  result = getattr(ufunc, method)(*inputs, **kwargs)\n",
      "C:\\ProgramData\\Anaconda3\\lib\\site-packages\\pandas\\core\\series.py:726: RuntimeWarning: overflow encountered in exp\n",
      "  result = getattr(ufunc, method)(*inputs, **kwargs)\n",
      "C:\\ProgramData\\Anaconda3\\lib\\site-packages\\pandas\\core\\series.py:726: RuntimeWarning: overflow encountered in exp\n",
      "  result = getattr(ufunc, method)(*inputs, **kwargs)\n",
      "C:\\ProgramData\\Anaconda3\\lib\\site-packages\\pandas\\core\\series.py:726: RuntimeWarning: overflow encountered in exp\n",
      "  result = getattr(ufunc, method)(*inputs, **kwargs)\n",
      "C:\\ProgramData\\Anaconda3\\lib\\site-packages\\pandas\\core\\series.py:726: RuntimeWarning: overflow encountered in exp\n",
      "  result = getattr(ufunc, method)(*inputs, **kwargs)\n",
      "C:\\ProgramData\\Anaconda3\\lib\\site-packages\\pandas\\core\\series.py:726: RuntimeWarning: overflow encountered in exp\n",
      "  result = getattr(ufunc, method)(*inputs, **kwargs)\n",
      "C:\\ProgramData\\Anaconda3\\lib\\site-packages\\pandas\\core\\series.py:726: RuntimeWarning: overflow encountered in exp\n",
      "  result = getattr(ufunc, method)(*inputs, **kwargs)\n",
      "C:\\ProgramData\\Anaconda3\\lib\\site-packages\\pandas\\core\\series.py:726: RuntimeWarning: overflow encountered in exp\n",
      "  result = getattr(ufunc, method)(*inputs, **kwargs)\n",
      "C:\\ProgramData\\Anaconda3\\lib\\site-packages\\pandas\\core\\series.py:726: RuntimeWarning: overflow encountered in exp\n",
      "  result = getattr(ufunc, method)(*inputs, **kwargs)\n",
      "C:\\ProgramData\\Anaconda3\\lib\\site-packages\\pandas\\core\\series.py:726: RuntimeWarning: overflow encountered in exp\n",
      "  result = getattr(ufunc, method)(*inputs, **kwargs)\n",
      "C:\\ProgramData\\Anaconda3\\lib\\site-packages\\pandas\\core\\series.py:726: RuntimeWarning: overflow encountered in exp\n",
      "  result = getattr(ufunc, method)(*inputs, **kwargs)\n"
     ]
    },
    {
     "name": "stdout",
     "output_type": "stream",
     "text": [
      "[8.01865114e+03 3.46301734e+00 9.51833812e+00]\n",
      "[1.07428284e+04 3.32936800e+00 9.36202786e+00]\n",
      "[  0.85428213  -6.37532078 -27.74084694]\n",
      "[  1.55447327  -5.88468701 -24.66386503]\n"
     ]
    }
   ],
   "source": [
    "l=[]\n",
    "for e0 in [12,18,24,30]:\n",
    "    x0=[1000,2,5]\n",
    "    s=minimize(objective,x0,dffGlass,method='SLSQP')\n",
    "    l.append(s)\n",
    "thn,bn,nn = [], [], []\n",
    "for i in l:\n",
    "    print(i.x)\n",
    "    thn.append(i.x[0])\n",
    "    bn.append(i.x[1])\n",
    "    nn.append(i.x[2])\n",
    "dicfL_Glass={'Energy':[12,18,24,30],'Thc':thn,'beta':bn,'n':nn}"
   ]
  },
  {
   "cell_type": "code",
   "execution_count": 279,
   "metadata": {},
   "outputs": [
    {
     "name": "stdout",
     "output_type": "stream",
     "text": [
      "[9.95420213e+05 1.02201756e+01 1.29095516e+01]\n",
      "[5.37869898e+05 7.41067287e+00 1.95672472e+01]\n",
      "[6.02082085e+03 2.47298455e+00 4.89820649e+00]\n",
      "[4.62604791e+03 1.81033925e+00 3.38425138e+00]\n"
     ]
    }
   ],
   "source": [
    "l=[]\n",
    "for e0 in [12,18,24,30]:\n",
    "    x0=[1000,2,5]\n",
    "    s=minimize(objective,x0,dffSS)\n",
    "    l.append(s)\n",
    "thn,bn,nn = [], [], []\n",
    "for i in l:\n",
    "    print(i.x)\n",
    "    thn.append(i.x[0])\n",
    "    bn.append(i.x[1])\n",
    "    nn.append(i.x[2])\n",
    "dicfL_SS={'Energy':[12,18,24,30],'Thc':thn,'beta':bn,'n':nn}"
   ]
  },
  {
   "cell_type": "markdown",
   "metadata": {},
   "source": [
    "Dejando Fijo el espesor crítico"
   ]
  },
  {
   "cell_type": "code",
   "execution_count": 269,
   "metadata": {},
   "outputs": [],
   "source": [
    "#Stainless Steel \n",
    "SS={12:591.44,18:1699.65,24:3115.59,30:4783.12}\n",
    "SS.values\n",
    "#silicon\n",
    "Si={12:936.51,18:1961.81,24:3227.94,30:4566.89}\n",
    "#glass\n",
    "Glass={12:934.41,18:1984.22,24:3170.76,30:4598.13}"
   ]
  },
  {
   "cell_type": "code",
   "execution_count": 270,
   "metadata": {},
   "outputs": [],
   "source": [
    "def mequation2(I,Thc,beta,n):\n",
    "    \"\"\"\n",
    "    Analithic Function to relate the thickness of a film with its relative ratio of intensities, i.e I_r\n",
    "    \"\"\"\n",
    "    Thc=Si[e0]\n",
    "    return Thc*np.exp(-beta*I**(1.0/n))\n",
    "def objective2(x,df2):\n",
    "    \"\"\"\n",
    "    El valor que retorne la función es el que se busca minimizar\n",
    "    \"\"\"\n",
    "    thc=Si[e0]\n",
    "    b=x[1]\n",
    "    n=x[2]\n",
    "    #print(e0)\n",
    "    df2['Equation'] = mequation2(df2.I_ratio,thc,b,n)\n",
    "    df2['Discrepancy'] = (df2.index.get_level_values('Thickness')-df2.Equation)/df2.index.get_level_values('Thickness')*100\n",
    "    dfaux=df2[df2.I_ratio!=0]\n",
    "    return dfaux.loc[(e0,20):(e0,5000)].Discrepancy.pow(2).sum()#df2.loc[(e0,20):(e0,5000)].Discrepancy.pow(2).sum()"
   ]
  },
  {
   "cell_type": "code",
   "execution_count": 271,
   "metadata": {},
   "outputs": [
    {
     "name": "stdout",
     "output_type": "stream",
     "text": [
      "[9.44449021e+02 7.97800553e-01 4.57158758e-01]\n",
      "[1.96997749e+03 1.04557138e+00 2.82498458e+00]\n",
      "[3.23660030e+03 1.35157175e+00 4.36658770e+00]\n",
      "[4.57534059e+03 1.51947397e+00 4.83100218e+00]\n"
     ]
    }
   ],
   "source": [
    "l,thcc=[],[]\n",
    "for e0 in [12,18,24,30]:\n",
    "    x0=[Si[e0],2,5]\n",
    "    s=minimize(objective2,x0,dffSi,method='Powell')\n",
    "    l.append(s)\n",
    "    thcc.append(Si[e0])\n",
    "thn,bn,nn = [], [], []\n",
    "for i in l:\n",
    "    print(i.x)\n",
    "    thn.append(i.x[0])\n",
    "    bn.append(i.x[1])\n",
    "    nn.append(i.x[2])\n",
    "dicfFix_Si={'Energy':[12,18,24,30],'Thc':thcc,'beta':bn,'n':nn}"
   ]
  },
  {
   "cell_type": "code",
   "execution_count": 272,
   "metadata": {},
   "outputs": [],
   "source": [
    "def mequation2(I,Thc,beta,n):\n",
    "    \"\"\"\n",
    "    Analithic Function to relate the thickness of a film with its relative ratio of intensities, i.e I_r\n",
    "    \"\"\"\n",
    "    Thc=Glass[e0]\n",
    "    return Thc*np.exp(-beta*I**(1.0/n))\n",
    "def objective2(x,df2):\n",
    "    \"\"\"\n",
    "    El valor que retorne la función es el que se busca minimizar\n",
    "    \"\"\"\n",
    "    thc=Glass[e0]\n",
    "    b=x[1]\n",
    "    n=x[2]\n",
    "    #print(e0)\n",
    "    df2['Equation'] = mequation2(df2.I_ratio,thc,b,n)\n",
    "    df2['Discrepancy'] = (df2.index.get_level_values('Thickness')-df2.Equation)/df2.index.get_level_values('Thickness')*100\n",
    "    dfaux=df2[df2.I_ratio!=0]\n",
    "    return dfaux.loc[(e0,20):(e0,5000)].Discrepancy.pow(2).sum()#df2.loc[(e0,20):(e0,5000)].Discrepancy.pow(2).sum()"
   ]
  },
  {
   "cell_type": "code",
   "execution_count": 273,
   "metadata": {},
   "outputs": [
    {
     "name": "stdout",
     "output_type": "stream",
     "text": [
      "[1.68992506e+03 8.31798906e+00 6.75938725e-01]\n",
      "[1.99581869e+03 1.79680575e+00 2.51537975e+00]\n",
      "[3.17904099e+03 1.94309059e+00 3.28866488e+00]\n",
      "[4.60879714e+03 2.14659769e+00 4.02836538e+00]\n"
     ]
    }
   ],
   "source": [
    "l,thcc=[],[]\n",
    "for e0 in [12,18,24,30]:\n",
    "    x0=[Glass[e0],2,5]\n",
    "    s=minimize(objective2,x0,dffGlass,method='Powell')\n",
    "    l.append(s)\n",
    "    thcc.append(Glass[e0])\n",
    "thn,bn,nn = [], [], []\n",
    "for i in l:\n",
    "    print(i.x)\n",
    "    thn.append(i.x[0])\n",
    "    bn.append(i.x[1])\n",
    "    nn.append(i.x[2])\n",
    "dicfFix_Glass={'Energy':[12,18,24,30],'Thc':thcc,'beta':bn,'n':nn} "
   ]
  },
  {
   "cell_type": "code",
   "execution_count": 282,
   "metadata": {},
   "outputs": [],
   "source": [
    "def mequation2(I,Thc,beta,n):\n",
    "    \"\"\"\n",
    "    Analithic Function to relate the thickness of a film with its relative ratio of intensities, i.e I_r\n",
    "    \"\"\"\n",
    "    Thc=SS[e0]\n",
    "    return Thc*np.exp(-beta*I**(1.0/n))\n",
    "def objective2(x,df2):\n",
    "    \"\"\"\n",
    "    El valor que retorne la función es el que se busca minimizar\n",
    "    \"\"\"\n",
    "    thc=SS[e0]\n",
    "    b=x[1]\n",
    "    n=x[2]\n",
    "    #print(e0)\n",
    "    df2['Equation'] = mequation2(df2.I_ratio,thc,b,n)\n",
    "    df2['Discrepancy'] = (df2.index.get_level_values('Thickness')-df2.Equation)/df2.index.get_level_values('Thickness')*100\n",
    "    dfaux=df2[df2.I_ratio!=0]\n",
    "    return dfaux.loc[(e0,20):(e0,5000)].Discrepancy.pow(2).sum()#df2.loc[(e0,20):(e0,5000)].Discrepancy.pow(2).sum()"
   ]
  },
  {
   "cell_type": "code",
   "execution_count": 284,
   "metadata": {},
   "outputs": [
    {
     "name": "stdout",
     "output_type": "stream",
     "text": [
      "[9.92521201e+03 1.69932591e+02 5.37494736e-01]\n",
      "[1725.75121483    2.18733562    1.78692661]\n",
      "[3.12369266e+03 1.81972469e+00 2.75913510e+00]\n",
      "[4.79088379e+03 1.84727920e+00 3.48214439e+00]\n"
     ]
    }
   ],
   "source": [
    "l,thcc=[],[]\n",
    "for e0 in [12,18,24,30]:\n",
    "    x0=[SS[e0],2,5]\n",
    "    s=minimize(objective2,x0,dffSS,method='Powell')\n",
    "    l.append(s)\n",
    "    thcc.append(SS[e0])\n",
    "thn,bn,nn = [], [], []\n",
    "for i in l:\n",
    "    print(i.x)\n",
    "    thn.append(i.x[0])\n",
    "    bn.append(i.x[1])\n",
    "    nn.append(i.x[2])\n",
    "dicfFix_SS={'Energy':[12,18,24,30],'Thc':thcc,'beta':bn,'n':nn}"
   ]
  },
  {
   "cell_type": "code",
   "execution_count": 276,
   "metadata": {},
   "outputs": [],
   "source": [
    "path1='C:\\\\Users\\\\Juan Pablo Nicolás\\\\Documents\\\\FISICA\\\\FISICA ESTUDIO\\\\MICROSCOPIA ELECTRONICA\\\\paper ecuacion Ene2021\\\\Sim_batch\\\\Matrix Simulation'"
   ]
  },
  {
   "cell_type": "code",
   "execution_count": 277,
   "metadata": {},
   "outputs": [],
   "source": [
    "pd.DataFrame(dicfL_Si).to_excel(path1+'\\\\'+'Ajuste_exp_Si_Glass_SS.xlsx',sheet_name='Si_')\n",
    "pd.DataFrame(dicfL_Glass).to_excel(path1+'\\\\'+'Ajuste_exp_Si_Glass_SS.xlsx',sheet_name='Glass_')\n",
    "pd.DataFrame(dicfL_SS).to_excel(path1+'\\\\'+'Ajuste_exp_Si_Glass_SS.xlsx',sheet_name='SS_to_excel')\n",
    "pd.DataFrame(dicfFix_Si).to_excel(path1+'\\\\'+'Ajuste_exp_Si_Glass_SS.xlsx',sheet_name='Si_Thcfix')\n",
    "pd.DataFrame(dicfFix_Glass).to_excel(path1+'\\\\'+'Ajuste_exp_Si_Glass_SS.xlsx',sheet_name='Glass_Thcfix')\n",
    "pd.DataFrame(dicfFix_SS).to_excel(path1+'\\\\'+'Ajuste_exp_Si_Glass_SS.xlsx',sheet_name='SS_Thcfix')"
   ]
  },
  {
   "cell_type": "code",
   "execution_count": 278,
   "metadata": {},
   "outputs": [],
   "source": [
    "with pd.ExcelWriter(path1+'\\\\'+'Ajuste_exp_Si_Glass_SS.xlsx') as writer:  \n",
    "    pd.DataFrame(dicfL_Si).to_excel(writer,sheet_name='Si_')\n",
    "    pd.DataFrame(dicfL_Glass).to_excel(writer,sheet_name='Glass_')\n",
    "    pd.DataFrame(dicfL_SS).to_excel(writer,sheet_name='SS_to_excel')\n",
    "    pd.DataFrame(dicfFix_Si).to_excel(writer,sheet_name='Si_Thcfix')\n",
    "    pd.DataFrame(dicfFix_Glass).to_excel(writer,sheet_name='Glass_Thcfix')\n",
    "    pd.DataFrame(dicfFix_SS).to_excel(writer,sheet_name='SS_Thcfix')"
   ]
  },
  {
   "cell_type": "code",
   "execution_count": 232,
   "metadata": {},
   "outputs": [
    {
     "data": {
      "text/html": [
       "<div>\n",
       "<style scoped>\n",
       "    .dataframe tbody tr th:only-of-type {\n",
       "        vertical-align: middle;\n",
       "    }\n",
       "\n",
       "    .dataframe tbody tr th {\n",
       "        vertical-align: top;\n",
       "    }\n",
       "\n",
       "    .dataframe thead th {\n",
       "        text-align: right;\n",
       "    }\n",
       "</style>\n",
       "<table border=\"1\" class=\"dataframe\">\n",
       "  <thead>\n",
       "    <tr style=\"text-align: right;\">\n",
       "      <th></th>\n",
       "      <th></th>\n",
       "      <th>I_ratio</th>\n",
       "      <th>Equation</th>\n",
       "      <th>Discrepancy</th>\n",
       "    </tr>\n",
       "    <tr>\n",
       "      <th>Energy</th>\n",
       "      <th>Thickness</th>\n",
       "      <th></th>\n",
       "      <th></th>\n",
       "      <th></th>\n",
       "    </tr>\n",
       "  </thead>\n",
       "  <tbody>\n",
       "    <tr>\n",
       "      <th rowspan=\"4\" valign=\"top\">12.0</th>\n",
       "      <th>430</th>\n",
       "      <td>0.988868</td>\n",
       "      <td>1002.879458</td>\n",
       "      <td>-133.227781</td>\n",
       "    </tr>\n",
       "    <tr>\n",
       "      <th>1030</th>\n",
       "      <td>0.008367</td>\n",
       "      <td>2596.911852</td>\n",
       "      <td>-152.127364</td>\n",
       "    </tr>\n",
       "    <tr>\n",
       "      <th>2140</th>\n",
       "      <td>0.003030</td>\n",
       "      <td>2890.305679</td>\n",
       "      <td>-35.061013</td>\n",
       "    </tr>\n",
       "    <tr>\n",
       "      <th>3060</th>\n",
       "      <td>0.000000</td>\n",
       "      <td>4566.890000</td>\n",
       "      <td>-49.244771</td>\n",
       "    </tr>\n",
       "    <tr>\n",
       "      <th rowspan=\"4\" valign=\"top\">18.0</th>\n",
       "      <th>430</th>\n",
       "      <td>3.063326</td>\n",
       "      <td>672.405280</td>\n",
       "      <td>-56.373321</td>\n",
       "    </tr>\n",
       "    <tr>\n",
       "      <th>1030</th>\n",
       "      <td>0.124709</td>\n",
       "      <td>1701.157303</td>\n",
       "      <td>-65.160903</td>\n",
       "    </tr>\n",
       "    <tr>\n",
       "      <th>2140</th>\n",
       "      <td>0.001997</td>\n",
       "      <td>3001.744263</td>\n",
       "      <td>-40.268423</td>\n",
       "    </tr>\n",
       "    <tr>\n",
       "      <th>3060</th>\n",
       "      <td>0.000653</td>\n",
       "      <td>3273.578425</td>\n",
       "      <td>-6.979687</td>\n",
       "    </tr>\n",
       "    <tr>\n",
       "      <th rowspan=\"4\" valign=\"top\">24.0</th>\n",
       "      <th>430</th>\n",
       "      <td>5.782476</td>\n",
       "      <td>513.682128</td>\n",
       "      <td>-19.460960</td>\n",
       "    </tr>\n",
       "    <tr>\n",
       "      <th>1030</th>\n",
       "      <td>0.458273</td>\n",
       "      <td>1253.557504</td>\n",
       "      <td>-21.704612</td>\n",
       "    </tr>\n",
       "    <tr>\n",
       "      <th>2140</th>\n",
       "      <td>0.006284</td>\n",
       "      <td>2682.639599</td>\n",
       "      <td>-25.356991</td>\n",
       "    </tr>\n",
       "    <tr>\n",
       "      <th>3060</th>\n",
       "      <td>0.000000</td>\n",
       "      <td>4566.890000</td>\n",
       "      <td>-49.244771</td>\n",
       "    </tr>\n",
       "    <tr>\n",
       "      <th rowspan=\"4\" valign=\"top\">30.0</th>\n",
       "      <th>430</th>\n",
       "      <td>8.576979</td>\n",
       "      <td>426.586030</td>\n",
       "      <td>0.793947</td>\n",
       "    </tr>\n",
       "    <tr>\n",
       "      <th>1030</th>\n",
       "      <td>0.862567</td>\n",
       "      <td>1046.189318</td>\n",
       "      <td>-1.571778</td>\n",
       "    </tr>\n",
       "    <tr>\n",
       "      <th>2140</th>\n",
       "      <td>0.033328</td>\n",
       "      <td>2154.042419</td>\n",
       "      <td>-0.656188</td>\n",
       "    </tr>\n",
       "    <tr>\n",
       "      <th>3060</th>\n",
       "      <td>0.002109</td>\n",
       "      <td>2987.497523</td>\n",
       "      <td>2.369362</td>\n",
       "    </tr>\n",
       "  </tbody>\n",
       "</table>\n",
       "</div>"
      ],
      "text/plain": [
       "                   I_ratio     Equation  Discrepancy\n",
       "Energy Thickness                                    \n",
       "12.0   430        0.988868  1002.879458  -133.227781\n",
       "       1030       0.008367  2596.911852  -152.127364\n",
       "       2140       0.003030  2890.305679   -35.061013\n",
       "       3060       0.000000  4566.890000   -49.244771\n",
       "18.0   430        3.063326   672.405280   -56.373321\n",
       "       1030       0.124709  1701.157303   -65.160903\n",
       "       2140       0.001997  3001.744263   -40.268423\n",
       "       3060       0.000653  3273.578425    -6.979687\n",
       "24.0   430        5.782476   513.682128   -19.460960\n",
       "       1030       0.458273  1253.557504   -21.704612\n",
       "       2140       0.006284  2682.639599   -25.356991\n",
       "       3060       0.000000  4566.890000   -49.244771\n",
       "30.0   430        8.576979   426.586030     0.793947\n",
       "       1030       0.862567  1046.189318    -1.571778\n",
       "       2140       0.033328  2154.042419    -0.656188\n",
       "       3060       0.002109  2987.497523     2.369362"
      ]
     },
     "execution_count": 232,
     "metadata": {},
     "output_type": "execute_result"
    }
   ],
   "source": [
    "dffSi"
   ]
  },
  {
   "cell_type": "code",
   "execution_count": null,
   "metadata": {},
   "outputs": [],
   "source": []
  }
 ],
 "metadata": {
  "kernelspec": {
   "display_name": "Python 3",
   "language": "python",
   "name": "python3"
  },
  "language_info": {
   "codemirror_mode": {
    "name": "ipython",
    "version": 3
   },
   "file_extension": ".py",
   "mimetype": "text/x-python",
   "name": "python",
   "nbconvert_exporter": "python",
   "pygments_lexer": "ipython3",
   "version": "3.8.5"
  }
 },
 "nbformat": 4,
 "nbformat_minor": 4
}
